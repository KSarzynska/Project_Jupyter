{
 "cells": [
  {
   "cell_type": "markdown",
   "metadata": {},
   "source": [
    "![myimage](https://images.pexels.com/photos/160107/pexels-photo-160107.jpeg?auto=compress&cs=tinysrgb&dpr=2&h=650&w=940)"
   ]
  },
  {
   "cell_type": "markdown",
   "metadata": {},
   "source": [
    "# Welcome to my interactive POS tagger! "
   ]
  },
  {
   "cell_type": "markdown",
   "metadata": {},
   "source": [
    "## POS tagging is useful in determining sentence structures in a given language, which helps learners to understand its grammar. Thanks to tags, it is easier to define the style of the text as well as its nature."
   ]
  },
  {
   "cell_type": "markdown",
   "metadata": {},
   "source": [
    "> ### By using my app, it is possible to select a website and POS tag it. \n",
    "> ### You can download the results later. "
   ]
  },
  {
   "cell_type": "markdown",
   "metadata": {},
   "source": [
    "### 1. Choosing a website"
   ]
  },
  {
   "cell_type": "markdown",
   "metadata": {},
   "source": [
    "First, select the website you want to analyze."
   ]
  },
  {
   "cell_type": "code",
   "execution_count": 3,
   "metadata": {
    "scrolled": true
   },
   "outputs": [
    {
     "name": "stdout",
     "output_type": "stream",
     "text": [
      "Paste your website address: https://www.theguardian.com/politics/live/2021/jun/10/uk-covid-live-news-latest-updates-matt-hancock-pandemic-coronavirus-brexit-g7\n"
     ]
    }
   ],
   "source": [
    "website = input(\"Paste your website address: \")"
   ]
  },
  {
   "cell_type": "markdown",
   "metadata": {},
   "source": [
    "### 2. Cleaning the data"
   ]
  },
  {
   "cell_type": "markdown",
   "metadata": {},
   "source": [
    "Now we have to extract the text itself, clearing the page content from unnecessary data."
   ]
  },
  {
   "cell_type": "code",
   "execution_count": 4,
   "metadata": {},
   "outputs": [],
   "source": [
    "import requests\n",
    "page = requests.get(website)"
   ]
  },
  {
   "cell_type": "code",
   "execution_count": 5,
   "metadata": {},
   "outputs": [],
   "source": [
    "from bs4 import BeautifulSoup\n",
    "import requests\n",
    "import nltk\n",
    "\n",
    "response = requests.get(website).content\n",
    "soup = BeautifulSoup(response, \"html.parser\")\n",
    "tokens = nltk.tokenize.word_tokenize(soup.get_text())\n"
   ]
  },
  {
   "cell_type": "code",
   "execution_count": 6,
   "metadata": {},
   "outputs": [],
   "source": [
    "punc = \"—”!()-[]{}';:\\,<>./?@#$%^&*_~–|1234567890\"\n",
    "punc = list(punc)\n",
    "for element in punc:\n",
    "    try:\n",
    "        while True:\n",
    "            tokens.remove(element)\n",
    "    except ValueError:\n",
    "        pass"
   ]
  },
  {
   "cell_type": "markdown",
   "metadata": {},
   "source": [
    "### 3. Analyzing the data"
   ]
  },
  {
   "cell_type": "markdown",
   "metadata": {},
   "source": [
    "Having prepared the content, we can finally analyze it. Here, I will apply tokenization and tagging."
   ]
  },
  {
   "cell_type": "code",
   "execution_count": 7,
   "metadata": {
    "scrolled": true
   },
   "outputs": [],
   "source": [
    "tagged = nltk.pos_tag(tokens)"
   ]
  },
  {
   "cell_type": "code",
   "execution_count": 34,
   "metadata": {
    "scrolled": false
   },
   "outputs": [
    {
     "name": "stdout",
     "output_type": "stream",
     "text": [
      "Counter({'NNP': 699, 'NN': 389, 'IN': 295, 'DT': 247, 'JJ': 156, 'NNS': 128, 'CD': 102, 'TO': 94, 'VB': 89, 'VBD': 86, 'PRP': 81, 'CC': 78, 'VBZ': 72, 'RB': 71, 'VBG': 50, 'VBN': 47, 'VBP': 44, 'PRP$': 36, 'MD': 25, 'WDT': 10, 'WP': 9, 'NNPS': 7, 'WRB': 7, 'RP': 6, 'POS': 6, 'PDT': 5, 'EX': 5, 'JJS': 4, 'RBR': 4, \"''\": 4, '``': 2, 'RBS': 2, ':': 2, 'JJR': 2, 'FW': 1})\n"
     ]
    }
   ],
   "source": [
    "from collections import Counter\n",
    "from nltk.tag import pos_tag\n",
    "from nltk.tokenize import word_tokenize\n",
    "\n",
    "dictionary_counter_num = Counter([j for i,j in tagged])\n",
    "print(dictionary_counter_num)"
   ]
  },
  {
   "cell_type": "markdown",
   "metadata": {},
   "source": [
    "### 4. Creating a bar chart"
   ]
  },
  {
   "cell_type": "markdown",
   "metadata": {},
   "source": [
    "To visualize the result we will use a bar chart with the help of the matplotlib module."
   ]
  },
  {
   "cell_type": "code",
   "execution_count": 9,
   "metadata": {},
   "outputs": [
    {
     "data": {
      "image/png": "[encoded data removed]",
      "text/plain": [
       "<Figure size 1440x720 with 1 Axes>"
      ]
     },
     "metadata": {
      "needs_background": "light"
     },
     "output_type": "display_data"
    }
   ],
   "source": [
    "import matplotlib.pyplot as plt\n",
    "\n",
    "plt.figure(figsize=(20,10))\n",
    "plt.bar(range(len(dictionary_counter_num)), list(dictionary_counter_num.values()), align='center')\n",
    "plt.xticks(range(len(dictionary_counter_num)), list(dictionary_counter_num.keys()))\n",
    "plt.show()"
   ]
  },
  {
   "cell_type": "markdown",
   "metadata": {},
   "source": [
    "### Summary"
   ]
  },
  {
   "cell_type": "markdown",
   "metadata": {},
   "source": [
    "Now, when we have the results, we can calculate the percentage of the most common parts of speech."
   ]
  },
  {
   "cell_type": "markdown",
   "metadata": {},
   "source": [
    "First, I will calculate the total amount of tokens we have obtained. Then I shall divide the frequency number of the two most common parts of speech (n) by the total number of tokens (x), which will present their percentage in the text (y)."
   ]
  },
  {
   "cell_type": "markdown",
   "metadata": {},
   "source": [
    "$$ \\frac{n}{x} =  y*100 $$"
   ]
  },
  {
   "cell_type": "code",
   "execution_count": 33,
   "metadata": {},
   "outputs": [
    {
     "name": "stdout",
     "output_type": "stream",
     "text": [
      "Total number of tokens:  2865\n",
      "Percentage of each POS:  NNP - 24.4 %,  NN - 13.58 %\n"
     ]
    }
   ],
   "source": [
    "one = list(dictionary_counter_num.items())[0]\n",
    "two = list(dictionary_counter_num.items())[1]\n",
    "one_k = one[1]\n",
    "two_k = two[1]\n",
    "total = len(tokens)\n",
    "print(\"Total number of tokens: \", len(tokens))\n",
    "print(\"Percentage of each POS: \", one[0], \"-\", round(one_k/total*100,2),\"%, \", two[0], \"-\", round(two_k/total*100,2),\"%\")\n"
   ]
  },
  {
   "cell_type": "code",
   "execution_count": null,
   "metadata": {},
   "outputs": [],
   "source": []
  }
 ],
 "metadata": {
  "kernelspec": {
   "display_name": "Python 3",
   "language": "python",
   "name": "python3"
  },
  "language_info": {
   "codemirror_mode": {
    "name": "ipython",
    "version": 3
   },
   "file_extension": ".py",
   "mimetype": "text/x-python",
   "name": "python",
   "nbconvert_exporter": "python",
   "pygments_lexer": "ipython3",
   "version": "3.8.5"
  }
 },
 "nbformat": 4,
 "nbformat_minor": 4
}
